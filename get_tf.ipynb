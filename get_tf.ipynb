{
 "cells": [
  {
   "cell_type": "code",
   "execution_count": 2,
   "metadata": {},
   "outputs": [],
   "source": [
    "import numpy as np\n",
    "from scipy.spatial.transform import Rotation as R"
   ]
  },
  {
   "cell_type": "code",
   "execution_count": 4,
   "metadata": {},
   "outputs": [],
   "source": [
    "camR2camL = [0.3987197408845486, -0.001707223726285425, 0.0068598299240638805, 0.000996027573104912, -0.006515031817384763, -0.0018497486047728876, 0.9999765700853152]"
   ]
  },
  {
   "cell_type": "code",
   "execution_count": 5,
   "metadata": {},
   "outputs": [],
   "source": [
    "translation = camR2camL[:3]\n",
    "quaternion = camR2camL[3:]"
   ]
  },
  {
   "cell_type": "code",
   "execution_count": 6,
   "metadata": {},
   "outputs": [],
   "source": [
    "rot = R(quaternion)\n",
    "transform = np.identity(4)\n",
    "transform[:3, :3] = rot.as_matrix()\n",
    "transform[:3, 3] = translation"
   ]
  },
  {
   "cell_type": "code",
   "execution_count": 7,
   "metadata": {},
   "outputs": [],
   "source": [
    "camR2camL = transform"
   ]
  },
  {
   "cell_type": "code",
   "execution_count": 8,
   "metadata": {},
   "outputs": [],
   "source": [
    "lidar2camL = np.array([[0.01498316835973168, -0.999874136398744, -0.0052168981943206405, 0.23],\n",
    "                       [-0.005902540726116401, 0.005128945481573888, -0.9999694264982424, -0.1],\n",
    "                        [0.999870323931499, 0.015013503225863423, -0.005824949957425718, -0.05],\n",
    "                        [0.0, 0.0, 0.0, 1.0]])"
   ]
  },
  {
   "cell_type": "code",
   "execution_count": 9,
   "metadata": {},
   "outputs": [],
   "source": [
    "camR2imu = np.array([[0.01573309, -0.99986094, 0.00552923, 0.01750096],\n",
    "                     [0.00562882, -0.00544126, -0.99996935, -0.02215593],\n",
    "                     [0.99986038,  0.01576373,  0.00554243, -0.07330212],\n",
    "                     [0.        ,  0.        ,  0.        ,  1.        ]])"
   ]
  },
  {
   "cell_type": "code",
   "execution_count": 10,
   "metadata": {},
   "outputs": [],
   "source": [
    "lidar2imu = lidar2camL @ np.linalg.inv(camR2camL) @ camR2imu"
   ]
  },
  {
   "cell_type": "code",
   "execution_count": 12,
   "metadata": {},
   "outputs": [
    {
     "data": {
      "text/plain": [
       "array([[-0.01248568, -0.0060324 ,  0.99990385,  0.24667889],\n",
       "       [-0.99965693, -0.02295062, -0.01262105, -0.02271339],\n",
       "       [ 0.02302455, -0.9997184 , -0.00574377, -0.43199534],\n",
       "       [ 0.        ,  0.        ,  0.        ,  1.        ]])"
      ]
     },
     "execution_count": 12,
     "metadata": {},
     "output_type": "execute_result"
    }
   ],
   "source": [
    "lidar2imu"
   ]
  },
  {
   "cell_type": "code",
   "execution_count": 13,
   "metadata": {},
   "outputs": [],
   "source": [
    "rot = R.from_matrix(lidar2imu[:3, :3])\n",
    "quaternion_lidar2imu = rot.as_quat()\n",
    "translation_lidar2imu = lidar2imu[:3, 3]"
   ]
  },
  {
   "cell_type": "code",
   "execution_count": 14,
   "metadata": {},
   "outputs": [
    {
     "data": {
      "text/plain": [
       "array([ 0.50403589, -0.49881831,  0.50736883, -0.48959675])"
      ]
     },
     "execution_count": 14,
     "metadata": {},
     "output_type": "execute_result"
    }
   ],
   "source": [
    "quaternion_lidar2imu"
   ]
  },
  {
   "cell_type": "code",
   "execution_count": 15,
   "metadata": {},
   "outputs": [
    {
     "data": {
      "text/plain": [
       "array([ 0.24667889, -0.02271339, -0.43199534])"
      ]
     },
     "execution_count": 15,
     "metadata": {},
     "output_type": "execute_result"
    }
   ],
   "source": [
    "translation_lidar2imu"
   ]
  },
  {
   "cell_type": "code",
   "execution_count": null,
   "metadata": {},
   "outputs": [],
   "source": []
  }
 ],
 "metadata": {
  "kernelspec": {
   "display_name": "Python 3",
   "language": "python",
   "name": "python3"
  },
  "language_info": {
   "codemirror_mode": {
    "name": "ipython",
    "version": 3
   },
   "file_extension": ".py",
   "mimetype": "text/x-python",
   "name": "python",
   "nbconvert_exporter": "python",
   "pygments_lexer": "ipython3",
   "version": "3.8.3"
  }
 },
 "nbformat": 4,
 "nbformat_minor": 4
}
